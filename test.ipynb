{
 "cells": [
  {
   "cell_type": "code",
   "execution_count": 32,
   "metadata": {},
   "outputs": [
    {
     "name": "stdout",
     "output_type": "stream",
     "text": [
      "2 0 0\n",
      "1 3 0\n",
      "0 0 1\n",
      "100.012 _\n",
      " 11.03\n",
      "33.432\n"
     ]
    }
   ],
   "source": [
    "def subtract_numbers(num1, num1_drob, num2, num2_drob, base):\n",
    "    # Проверка на равенство длины чисел\n",
    "    while len(num1) < len(num2):\n",
    "        num1 = '0' + num1\n",
    "    while len(num2) < len(num1):\n",
    "        num2 = '0' + num2\n",
    "\n",
    "    while len(num1_drob) < len(num2_drob):\n",
    "        num1_drob = num1_drob + '0'\n",
    "    while len(num2_drob) < len(num1_drob):\n",
    "        num2_drob = num2_drob + '0'\n",
    "\n",
    "    borrow = 0\n",
    "    result_drob = \"\"\n",
    "    \n",
    "    for i in range(len(num1_drob) - 1, -1, -1):\n",
    "        digit1 = int(num1_drob[i], base)\n",
    "        digit2 = int(num2_drob[i], base)\n",
    "\n",
    "        # Учитываем заем\n",
    "        digit1 -= borrow\n",
    "\n",
    "        # Если digit1 < digit2, занимаем у следующего разряда\n",
    "        if digit1 < digit2:\n",
    "            digit1 += base\n",
    "            borrow = 1\n",
    "        else:\n",
    "            borrow = 0\n",
    "\n",
    "        # Вычисляем текущий разряд результата\n",
    "        result_digit = digit1 - digit2\n",
    "        result_drob = str(result_digit) + result_drob\n",
    "\n",
    "    # Удаляем ведущие нули\n",
    "    result_drob = result_drob.rstrip('0')\n",
    "\n",
    "    # Выполняем вычитание над целой частью\n",
    "    result = \"\"\n",
    "    for i in range(len(num1) - 1, -1, -1):\n",
    "        digit1 = int(num1[i], base)\n",
    "        digit2 = int(num2[i], base)\n",
    "\n",
    "        # Учитываем заем\n",
    "        digit1 -= borrow\n",
    "\n",
    "        # Если digit1 < digit2, занимаем у следующего разряда\n",
    "        if digit1 < digit2:\n",
    "            digit1 += base\n",
    "            borrow = 1\n",
    "        else:\n",
    "            borrow = 0\n",
    "\n",
    "        # Вычисляем текущий разряд результата\n",
    "        result_digit = digit1 - digit2\n",
    "        result = str(result_digit) + result\n",
    "\n",
    "    # Удаляем ведущие нули\n",
    "    result = result.lstrip('0')\n",
    "\n",
    "    return f'{result}.{result_drob}' if result or result_drob else \"0\"\n",
    "\n",
    "# Пример использования\n",
    "num1 = \"100\"\n",
    "num1_drob = \"012\"\n",
    "num2 = \"11\"\n",
    "num2_drob = \"03\"\n",
    "base = 5\n",
    "\n",
    "result = subtract_numbers(num1, num1_drob, num2, num2_drob, base)\n",
    "print(f'{num1}.{num1_drob} _')\n",
    "print(\" \"*(len(num1) - len(num2)-1),f'{num2}.{num2_drob}')\n",
    "# print('-' * max(len(num1), len(num2)))\n",
    "print(result)\n"
   ]
  },
  {
   "cell_type": "code",
   "execution_count": 5,
   "metadata": {},
   "outputs": [
    {
     "name": "stdout",
     "output_type": "stream",
     "text": [
      "101010001\n",
      "000000011\n"
     ]
    },
    {
     "ename": "KeyboardInterrupt",
     "evalue": "",
     "output_type": "error",
     "traceback": [
      "\u001b[1;31m---------------------------------------------------------------------------\u001b[0m",
      "\u001b[1;31mKeyboardInterrupt\u001b[0m                         Traceback (most recent call last)",
      "\u001b[1;32mc:\\Users\\lapis\\Desktop\\UNIVER\\ТОИ (Алексеев Корж)\\test.ipynb Ячейка 2\u001b[0m line \u001b[0;36m1\n\u001b[0;32m     <a href='vscode-notebook-cell:/c%3A/Users/lapis/Desktop/UNIVER/%D0%A2%D0%9E%D0%98%20%28%D0%90%D0%BB%D0%B5%D0%BA%D1%81%D0%B5%D0%B5%D0%B2%20%D0%9A%D0%BE%D1%80%D0%B6%29/test.ipynb#W1sZmlsZQ%3D%3D?line=10'>11</a>\u001b[0m pointer1 \u001b[39m=\u001b[39m \u001b[39mlen\u001b[39m(num1) \u001b[39m-\u001b[39m \u001b[39m1\u001b[39m\n\u001b[0;32m     <a href='vscode-notebook-cell:/c%3A/Users/lapis/Desktop/UNIVER/%D0%A2%D0%9E%D0%98%20%28%D0%90%D0%BB%D0%B5%D0%BA%D1%81%D0%B5%D0%B5%D0%B2%20%D0%9A%D0%BE%D1%80%D0%B6%29/test.ipynb#W1sZmlsZQ%3D%3D?line=11'>12</a>\u001b[0m pointer2 \u001b[39m=\u001b[39m \u001b[39mlen\u001b[39m(num2) \u001b[39m-\u001b[39m \u001b[39m1\u001b[39m\n\u001b[1;32m---> <a href='vscode-notebook-cell:/c%3A/Users/lapis/Desktop/UNIVER/%D0%A2%D0%9E%D0%98%20%28%D0%90%D0%BB%D0%B5%D0%BA%D1%81%D0%B5%D0%B5%D0%B2%20%D0%9A%D0%BE%D1%80%D0%B6%29/test.ipynb#W1sZmlsZQ%3D%3D?line=13'>14</a>\u001b[0m \u001b[39mwhile\u001b[39;00m pointer1\u001b[39m>\u001b[39m\u001b[39m=\u001b[39m\u001b[39m0\u001b[39m:\n\u001b[0;32m     <a href='vscode-notebook-cell:/c%3A/Users/lapis/Desktop/UNIVER/%D0%A2%D0%9E%D0%98%20%28%D0%90%D0%BB%D0%B5%D0%BA%D1%81%D0%B5%D0%B5%D0%B2%20%D0%9A%D0%BE%D1%80%D0%B6%29/test.ipynb#W1sZmlsZQ%3D%3D?line=14'>15</a>\u001b[0m     \u001b[39m.\u001b[39m\u001b[39m.\u001b[39m\u001b[39m.\u001b[39m\n",
      "\u001b[1;31mKeyboardInterrupt\u001b[0m: "
     ]
    }
   ],
   "source": [
    "num1 = \"101010001\"\n",
    "num2 = \"11\"\n",
    "base = 2\n",
    "\n",
    "# Если в 10-чной 2-ое больше 1-ого то ничего не делаем\n",
    "\n",
    "if len(num2) < len(num1):\n",
    "    num2 = '0' * (len(num1) - len(num2)) + num2\n",
    "\n",
    "print(num1)\n",
    "print(num2)\n",
    "\n",
    "pointer1 = len(num1) - 1\n",
    "pointer2 = len(num2) - 1\n",
    "\n"
   ]
  },
  {
   "cell_type": "code",
   "execution_count": null,
   "metadata": {},
   "outputs": [],
   "source": []
  }
 ],
 "metadata": {
  "kernelspec": {
   "display_name": "Python 3",
   "language": "python",
   "name": "python3"
  },
  "language_info": {
   "codemirror_mode": {
    "name": "ipython",
    "version": 3
   },
   "file_extension": ".py",
   "mimetype": "text/x-python",
   "name": "python",
   "nbconvert_exporter": "python",
   "pygments_lexer": "ipython3",
   "version": "3.11.5"
  }
 },
 "nbformat": 4,
 "nbformat_minor": 2
}
